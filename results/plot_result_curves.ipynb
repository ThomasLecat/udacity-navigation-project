{
 "cells": [
  {
   "cell_type": "markdown",
   "metadata": {
    "collapsed": true,
    "pycharm": {
     "name": "#%% md\n"
    }
   },
   "source": [
    "## Import library and data"
   ]
  },
  {
   "cell_type": "code",
   "execution_count": null,
   "outputs": [],
   "source": [
    "from textwrap import wrap\n",
    "\n",
    "import matplotlib.pyplot as plt\n",
    "import numpy as np\n",
    "import pandas as pd\n",
    "import seaborn as sns"
   ],
   "metadata": {
    "collapsed": false,
    "pycharm": {
     "name": "#%%\n"
    }
   }
  },
  {
   "cell_type": "markdown",
   "source": [
    "Import rewards per episode for DQN and double DQN for all 3 seeds."
   ],
   "metadata": {
    "collapsed": false,
    "pycharm": {
     "name": "#%% md\n"
    }
   }
  },
  {
   "cell_type": "code",
   "execution_count": null,
   "outputs": [],
   "source": [
    "num_seeds = 3\n",
    "df_dqn = pd.concat(\n",
    "    [\n",
    "        pd.read_csv(f\"dqn_reward_per_episode_seed{seed}.csv\", names=[f\"seed_{seed}\"])\n",
    "        for seed in range(1, num_seeds + 1)\n",
    "    ], axis=1\n",
    ")\n",
    "df_double_dqn = pd.concat(\n",
    "    [\n",
    "        pd.read_csv(\n",
    "            f\"double_dqn_reward_per_episode_seed{seed}.csv\", names=[f\"seed_{seed}\"]\n",
    "        )\n",
    "        for seed in range(1, num_seeds + 1)\n",
    "    ], axis=1\n",
    ")\n",
    "\n"
   ],
   "metadata": {
    "collapsed": false,
    "pycharm": {
     "name": "#%%\n"
    }
   }
  },
  {
   "cell_type": "markdown",
   "source": [
    "## Plot reward curves\n",
    "\n",
    "For each agent, plot the mean and standard deviation between seeds. Average over a\n",
    "window of 10 episodes to smooth curves."
   ],
   "metadata": {
    "collapsed": false,
    "pycharm": {
     "name": "#%% md\n"
    }
   }
  },
  {
   "cell_type": "code",
   "execution_count": null,
   "outputs": [],
   "source": [
    "fig, ax = plt.subplots()\n",
    "clrs = sns.color_palette(\"husl\", 2)\n",
    "with sns.axes_style(\"darkgrid\"):\n",
    "    plt.axhline(y=13, linestyle='--', color='black', linewidth=1)\n",
    "    for idx, (name, df) in enumerate([(\"DQN\", df_dqn), (\"Double DQN\", df_double_dqn)]):\n",
    "        episodes = np.arange(1, len(df)+1)  # x axis\n",
    "        df_smoothed = df.rolling(10, min_periods=1).mean()\n",
    "        mean = df_smoothed.mean(axis=\"columns\").to_numpy(np.float64)\n",
    "        sdt = df_smoothed.std(axis=\"columns\").to_numpy(np.float64)\n",
    "        ax.plot(episodes, mean, label=name, c=clrs[idx])\n",
    "        ax.fill_between(episodes, mean-sdt, mean+sdt ,alpha=0.3, facecolor=clrs[idx])\n",
    "    ax.legend()\n",
    "    ax.set_title(\n",
    "        \"\\n\".join(\n",
    "            wrap(\n",
    "                \"Mean and standard deviation of the score per episode during the \"\n",
    "                \"training of DQN and Double DQN agents across 3 seeds.\", 60\n",
    "            )\n",
    "        )\n",
    "    )\n",
    "    plt.ylabel(\"Score\")\n",
    "    plt.xlabel(\"Episode\")\n",
    "\n",
    "plt.savefig(\"reward_per_episode.png\")"
   ],
   "metadata": {
    "collapsed": false,
    "pycharm": {
     "name": "#%%\n"
    }
   }
  },
  {
   "cell_type": "code",
   "execution_count": null,
   "outputs": [],
   "source": [],
   "metadata": {
    "collapsed": false,
    "pycharm": {
     "name": "#%%\n"
    }
   }
  }
 ],
 "metadata": {
  "kernelspec": {
   "display_name": "Python 3",
   "language": "python",
   "name": "python3"
  },
  "language_info": {
   "codemirror_mode": {
    "name": "ipython",
    "version": 2
   },
   "file_extension": ".py",
   "mimetype": "text/x-python",
   "name": "python",
   "nbconvert_exporter": "python",
   "pygments_lexer": "ipython2",
   "version": "2.7.6"
  }
 },
 "nbformat": 4,
 "nbformat_minor": 0
}